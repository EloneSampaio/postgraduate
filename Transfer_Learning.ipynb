{
  "nbformat": 4,
  "nbformat_minor": 0,
  "metadata": {
    "colab": {
      "provenance": [],
      "mount_file_id": "1Jcg6AKxZPuk3k_Vt7dQKPU6b4O-dm6x4",
      "authorship_tag": "ABX9TyN6pRaJEef2nO49ouWwprKN",
      "include_colab_link": true
    },
    "kernelspec": {
      "name": "python3",
      "display_name": "Python 3"
    },
    "language_info": {
      "name": "python"
    }
  },
  "cells": [
    {
      "cell_type": "markdown",
      "metadata": {
        "id": "view-in-github",
        "colab_type": "text"
      },
      "source": [
        "<a href=\"https://colab.research.google.com/github/EloneSampaio/postgraduate/blob/master/Transfer_Learning.ipynb\" target=\"_parent\"><img src=\"https://colab.research.google.com/assets/colab-badge.svg\" alt=\"Open In Colab\"/></a>"
      ]
    },
    {
      "cell_type": "code",
      "execution_count": null,
      "metadata": {
        "id": "E6SQVNiwY01i"
      },
      "outputs": [],
      "source": []
    },
    {
      "cell_type": "markdown",
      "source": [
        "# Transfer Learning com TensorFlow\n",
        "\n",
        "\n",
        "\n",
        "###  Introdução ao TensorFlow e Keras\n",
        "\n",
        "TensorFlow: Um framework de código aberto para aprendizado de máquina, amplamente utilizado para redes neurais profundas.\n",
        "\n",
        "Keras: API de alto nível em TensorFlow que facilita a construção de redes neurais."
      ],
      "metadata": {
        "id": "E_pHltmNZGif"
      }
    },
    {
      "cell_type": "markdown",
      "source": [
        "Exemplo Prático: Transfer Learning com ResNet50 no TensorFlow"
      ],
      "metadata": {
        "id": "2mcJeHqcZUoE"
      }
    },
    {
      "cell_type": "code",
      "source": [
        "#  Importando as Bibliotecas:\n",
        "import tensorflow as tf\n",
        "from tensorflow.keras.applications import ResNet50\n",
        "from tensorflow.keras.preprocessing import image\n",
        "from tensorflow.keras.applications.resnet50 import preprocess_input, decode_predictions\n",
        "import numpy as np"
      ],
      "metadata": {
        "id": "Bzf15eXPZT0V"
      },
      "execution_count": null,
      "outputs": []
    },
    {
      "cell_type": "code",
      "source": [
        "#Carregando o Modelo Pré-treinado\n",
        "model =  ResNet50(weights='imagenet')\n"
      ],
      "metadata": {
        "colab": {
          "base_uri": "https://localhost:8080/"
        },
        "id": "fK4igQLZaBfM",
        "outputId": "c704dbe8-3c6a-4f0a-e08b-f6407acffdd5"
      },
      "execution_count": null,
      "outputs": [
        {
          "output_type": "stream",
          "name": "stdout",
          "text": [
            "Downloading data from https://storage.googleapis.com/tensorflow/keras-applications/resnet/resnet50_weights_tf_dim_ordering_tf_kernels.h5\n",
            "\u001b[1m102967424/102967424\u001b[0m \u001b[32m━━━━━━━━━━━━━━━━━━━━\u001b[0m\u001b[37m\u001b[0m \u001b[1m1s\u001b[0m 0us/step\n"
          ]
        }
      ]
    },
    {
      "cell_type": "code",
      "source": [
        "# Carregando e Processando a Imagem\n",
        "img_path =  '/content/drive/MyDrive/Colab Notebooks/rinocerontes.jpg'\n",
        "img = image.load_img(img_path, target_size=(224,224))\n",
        "img_array = image.img_to_array(img)\n",
        "img_array = np.expand_dims(img_array, axis= 0)\n",
        "img_array = preprocess_input(img_array)"
      ],
      "metadata": {
        "id": "Ja9xSjqEaTd4"
      },
      "execution_count": null,
      "outputs": []
    },
    {
      "cell_type": "code",
      "source": [
        "# Fazendo Previsões\n",
        "preds = model.predict(img_array)\n"
      ],
      "metadata": {
        "colab": {
          "base_uri": "https://localhost:8080/"
        },
        "id": "yxzDlJQYcXQA",
        "outputId": "339d8c99-7f78-4025-89dd-0497e9d5ee3b"
      },
      "execution_count": null,
      "outputs": [
        {
          "output_type": "stream",
          "name": "stdout",
          "text": [
            "\u001b[1m1/1\u001b[0m \u001b[32m━━━━━━━━━━━━━━━━━━━━\u001b[0m\u001b[37m\u001b[0m \u001b[1m3s\u001b[0m 3s/step\n"
          ]
        }
      ]
    },
    {
      "cell_type": "code",
      "source": [
        "# Resultado\n",
        "print('Predict: ', decode_predictions(preds, top=5)[0])"
      ],
      "metadata": {
        "colab": {
          "base_uri": "https://localhost:8080/"
        },
        "id": "JdU7oYGGcidW",
        "outputId": "a512378b-aa1b-4f68-8985-69f298ccb0d5"
      },
      "execution_count": null,
      "outputs": [
        {
          "output_type": "stream",
          "name": "stdout",
          "text": [
            "Predict:  [('n02437312', 'Arabian_camel', 0.7455686), ('n02410509', 'bison', 0.05252746), ('n02504013', 'Indian_elephant', 0.050691888), ('n02397096', 'warthog', 0.048653632), ('n01704323', 'triceratops', 0.017607134)]\n"
          ]
        }
      ]
    },
    {
      "cell_type": "markdown",
      "source": [
        "# Transfer Learning com PyTorch\n",
        "\n",
        "\n",
        "\n",
        "###  Introdução ao Pytorch\n",
        "\n",
        "Pytorch: Um framework de código aberto flexível e dinâmico, usado para redes neurais e aprendizado profundo. Permite uma maior personalização durante a execução do modelo.\n"
      ],
      "metadata": {
        "id": "qAZQIWkLSgIz"
      }
    },
    {
      "cell_type": "markdown",
      "source": [
        "### Exemplo prático: Transfer Learning com ResNet18 no Pytorch\n",
        "\n",
        "ResNet-18 is a pretrained model that has been trained on a subset of the ImageNet database. The model is trained on more than a million images, and can classify images into 1000 object categories (e.g. keyboard, mouse, pencil, and many animals).\n",
        "\n",
        "Passo a passo do exemplo\n",
        " - ResNet18: Aqui estamos usando o ResNet18 pré-treinado.\n",
        " - Preprocessamento da imagem: A imagem é redimensionada para 224x224 (o tamanho esperado pela ResNet), convertida para tensor, e normalizada.\n",
        " - Fazendo a previsão: O modelo retorna as pontuações, e torch.max(output, 1) retorna o índice da classe com a pontuação mais alta.\n",
        " - Mapeamento do índice para a label: Usamos a lista de classes para encontrar a label correspondente ao índice previsto."
      ],
      "metadata": {
        "id": "ao_5hPgvS_BK"
      }
    },
    {
      "cell_type": "code",
      "source": [
        "# Importar bibliotecas\n",
        "\n",
        "import torch\n",
        "import torchvision.models as models\n",
        "import torchvision.transforms as transforms\n",
        "from PIL import Image"
      ],
      "metadata": {
        "id": "6xKa4-a5S9Qw"
      },
      "execution_count": 28,
      "outputs": []
    },
    {
      "cell_type": "code",
      "source": [
        "# Carregando o modelo pré-treinado\n",
        "model = models.resnet18(pretrained=True)\n",
        "model.eval()"
      ],
      "metadata": {
        "colab": {
          "base_uri": "https://localhost:8080/"
        },
        "id": "5rYwIWR3T752",
        "outputId": "ad411017-a582-4154-be1a-ae0e3e386c10"
      },
      "execution_count": 29,
      "outputs": [
        {
          "output_type": "stream",
          "name": "stderr",
          "text": [
            "/usr/local/lib/python3.10/dist-packages/torchvision/models/_utils.py:208: UserWarning: The parameter 'pretrained' is deprecated since 0.13 and may be removed in the future, please use 'weights' instead.\n",
            "  warnings.warn(\n",
            "/usr/local/lib/python3.10/dist-packages/torchvision/models/_utils.py:223: UserWarning: Arguments other than a weight enum or `None` for 'weights' are deprecated since 0.13 and may be removed in the future. The current behavior is equivalent to passing `weights=ResNet18_Weights.IMAGENET1K_V1`. You can also use `weights=ResNet18_Weights.DEFAULT` to get the most up-to-date weights.\n",
            "  warnings.warn(msg)\n"
          ]
        },
        {
          "output_type": "execute_result",
          "data": {
            "text/plain": [
              "ResNet(\n",
              "  (conv1): Conv2d(3, 64, kernel_size=(7, 7), stride=(2, 2), padding=(3, 3), bias=False)\n",
              "  (bn1): BatchNorm2d(64, eps=1e-05, momentum=0.1, affine=True, track_running_stats=True)\n",
              "  (relu): ReLU(inplace=True)\n",
              "  (maxpool): MaxPool2d(kernel_size=3, stride=2, padding=1, dilation=1, ceil_mode=False)\n",
              "  (layer1): Sequential(\n",
              "    (0): BasicBlock(\n",
              "      (conv1): Conv2d(64, 64, kernel_size=(3, 3), stride=(1, 1), padding=(1, 1), bias=False)\n",
              "      (bn1): BatchNorm2d(64, eps=1e-05, momentum=0.1, affine=True, track_running_stats=True)\n",
              "      (relu): ReLU(inplace=True)\n",
              "      (conv2): Conv2d(64, 64, kernel_size=(3, 3), stride=(1, 1), padding=(1, 1), bias=False)\n",
              "      (bn2): BatchNorm2d(64, eps=1e-05, momentum=0.1, affine=True, track_running_stats=True)\n",
              "    )\n",
              "    (1): BasicBlock(\n",
              "      (conv1): Conv2d(64, 64, kernel_size=(3, 3), stride=(1, 1), padding=(1, 1), bias=False)\n",
              "      (bn1): BatchNorm2d(64, eps=1e-05, momentum=0.1, affine=True, track_running_stats=True)\n",
              "      (relu): ReLU(inplace=True)\n",
              "      (conv2): Conv2d(64, 64, kernel_size=(3, 3), stride=(1, 1), padding=(1, 1), bias=False)\n",
              "      (bn2): BatchNorm2d(64, eps=1e-05, momentum=0.1, affine=True, track_running_stats=True)\n",
              "    )\n",
              "  )\n",
              "  (layer2): Sequential(\n",
              "    (0): BasicBlock(\n",
              "      (conv1): Conv2d(64, 128, kernel_size=(3, 3), stride=(2, 2), padding=(1, 1), bias=False)\n",
              "      (bn1): BatchNorm2d(128, eps=1e-05, momentum=0.1, affine=True, track_running_stats=True)\n",
              "      (relu): ReLU(inplace=True)\n",
              "      (conv2): Conv2d(128, 128, kernel_size=(3, 3), stride=(1, 1), padding=(1, 1), bias=False)\n",
              "      (bn2): BatchNorm2d(128, eps=1e-05, momentum=0.1, affine=True, track_running_stats=True)\n",
              "      (downsample): Sequential(\n",
              "        (0): Conv2d(64, 128, kernel_size=(1, 1), stride=(2, 2), bias=False)\n",
              "        (1): BatchNorm2d(128, eps=1e-05, momentum=0.1, affine=True, track_running_stats=True)\n",
              "      )\n",
              "    )\n",
              "    (1): BasicBlock(\n",
              "      (conv1): Conv2d(128, 128, kernel_size=(3, 3), stride=(1, 1), padding=(1, 1), bias=False)\n",
              "      (bn1): BatchNorm2d(128, eps=1e-05, momentum=0.1, affine=True, track_running_stats=True)\n",
              "      (relu): ReLU(inplace=True)\n",
              "      (conv2): Conv2d(128, 128, kernel_size=(3, 3), stride=(1, 1), padding=(1, 1), bias=False)\n",
              "      (bn2): BatchNorm2d(128, eps=1e-05, momentum=0.1, affine=True, track_running_stats=True)\n",
              "    )\n",
              "  )\n",
              "  (layer3): Sequential(\n",
              "    (0): BasicBlock(\n",
              "      (conv1): Conv2d(128, 256, kernel_size=(3, 3), stride=(2, 2), padding=(1, 1), bias=False)\n",
              "      (bn1): BatchNorm2d(256, eps=1e-05, momentum=0.1, affine=True, track_running_stats=True)\n",
              "      (relu): ReLU(inplace=True)\n",
              "      (conv2): Conv2d(256, 256, kernel_size=(3, 3), stride=(1, 1), padding=(1, 1), bias=False)\n",
              "      (bn2): BatchNorm2d(256, eps=1e-05, momentum=0.1, affine=True, track_running_stats=True)\n",
              "      (downsample): Sequential(\n",
              "        (0): Conv2d(128, 256, kernel_size=(1, 1), stride=(2, 2), bias=False)\n",
              "        (1): BatchNorm2d(256, eps=1e-05, momentum=0.1, affine=True, track_running_stats=True)\n",
              "      )\n",
              "    )\n",
              "    (1): BasicBlock(\n",
              "      (conv1): Conv2d(256, 256, kernel_size=(3, 3), stride=(1, 1), padding=(1, 1), bias=False)\n",
              "      (bn1): BatchNorm2d(256, eps=1e-05, momentum=0.1, affine=True, track_running_stats=True)\n",
              "      (relu): ReLU(inplace=True)\n",
              "      (conv2): Conv2d(256, 256, kernel_size=(3, 3), stride=(1, 1), padding=(1, 1), bias=False)\n",
              "      (bn2): BatchNorm2d(256, eps=1e-05, momentum=0.1, affine=True, track_running_stats=True)\n",
              "    )\n",
              "  )\n",
              "  (layer4): Sequential(\n",
              "    (0): BasicBlock(\n",
              "      (conv1): Conv2d(256, 512, kernel_size=(3, 3), stride=(2, 2), padding=(1, 1), bias=False)\n",
              "      (bn1): BatchNorm2d(512, eps=1e-05, momentum=0.1, affine=True, track_running_stats=True)\n",
              "      (relu): ReLU(inplace=True)\n",
              "      (conv2): Conv2d(512, 512, kernel_size=(3, 3), stride=(1, 1), padding=(1, 1), bias=False)\n",
              "      (bn2): BatchNorm2d(512, eps=1e-05, momentum=0.1, affine=True, track_running_stats=True)\n",
              "      (downsample): Sequential(\n",
              "        (0): Conv2d(256, 512, kernel_size=(1, 1), stride=(2, 2), bias=False)\n",
              "        (1): BatchNorm2d(512, eps=1e-05, momentum=0.1, affine=True, track_running_stats=True)\n",
              "      )\n",
              "    )\n",
              "    (1): BasicBlock(\n",
              "      (conv1): Conv2d(512, 512, kernel_size=(3, 3), stride=(1, 1), padding=(1, 1), bias=False)\n",
              "      (bn1): BatchNorm2d(512, eps=1e-05, momentum=0.1, affine=True, track_running_stats=True)\n",
              "      (relu): ReLU(inplace=True)\n",
              "      (conv2): Conv2d(512, 512, kernel_size=(3, 3), stride=(1, 1), padding=(1, 1), bias=False)\n",
              "      (bn2): BatchNorm2d(512, eps=1e-05, momentum=0.1, affine=True, track_running_stats=True)\n",
              "    )\n",
              "  )\n",
              "  (avgpool): AdaptiveAvgPool2d(output_size=(1, 1))\n",
              "  (fc): Linear(in_features=512, out_features=1000, bias=True)\n",
              ")"
            ]
          },
          "metadata": {},
          "execution_count": 29
        }
      ]
    },
    {
      "cell_type": "code",
      "source": [
        "# Carregar e processar imagem\n",
        "transform = transforms.Compose([transforms.Resize(256),\n",
        "                                transforms.CenterCrop(224),\n",
        "                                transforms.ToTensor(),\n",
        "                                transforms.Normalize(mean=[0.485,0.456,0.406],std=[0.229,0.224,0.225])])"
      ],
      "metadata": {
        "id": "vKqk334wUTA5"
      },
      "execution_count": 4,
      "outputs": []
    },
    {
      "cell_type": "code",
      "source": [
        "img_path = Image.open('/content/drive/MyDrive/Colab Notebooks/rinocerontes.jpg')\n",
        "\n",
        "img_tensor = transform(img_path).unsqueeze(0) # Adicionar uma dimensão para o batch"
      ],
      "metadata": {
        "id": "IIzFYSkTVkHA"
      },
      "execution_count": 30,
      "outputs": []
    },
    {
      "cell_type": "code",
      "source": [],
      "metadata": {
        "id": "IkRmE7BjciG1"
      },
      "execution_count": null,
      "outputs": []
    },
    {
      "cell_type": "code",
      "source": [
        "# Fazendo previsões\n",
        "\n",
        "# Desativar o cálculo do gradiente durante a inferência\n",
        "with torch.no_grad():\n",
        "    output = model(img_tensor)\n",
        "\n",
        "# Obter o índice da previsão\n",
        "_,predicted = torch.max(output,1)\n"
      ],
      "metadata": {
        "id": "QNqArNuIWX8f"
      },
      "execution_count": 31,
      "outputs": []
    },
    {
      "cell_type": "code",
      "source": [
        "# Previsão realizada\n",
        "print('Predicted: ', predicted.indices)"
      ],
      "metadata": {
        "colab": {
          "base_uri": "https://localhost:8080/"
        },
        "id": "lg_lzbcnWo-x",
        "outputId": "7a450d98-646b-481d-f8f1-8dbda5ffb1c4"
      },
      "execution_count": 32,
      "outputs": [
        {
          "output_type": "stream",
          "name": "stdout",
          "text": [
            "Predicted:  <built-in method indices of Tensor object at 0x7d5d61bd7880>\n"
          ]
        }
      ]
    },
    {
      "cell_type": "code",
      "source": [
        "# Recuperar a label correspondente ao índice previsto\n",
        "import json\n",
        "import urllib\n",
        "# URL do arquivo JSON que contém as labels do ImageNet\n",
        "url = \"https://raw.githubusercontent.com/anishathalye/imagenet-simple-labels/master/imagenet-simple-labels.json\"\n",
        "response = urllib.request.urlopen(url)\n",
        "classes = json.loads(response.read().decode())\n",
        "# Recuperar a label correspondente ao índice previsto\n",
        "predicted_label = classes[predicted.item()]\n",
        "\n",
        "print(f'Predicted label: {predicted_label}')\n"
      ],
      "metadata": {
        "colab": {
          "base_uri": "https://localhost:8080/"
        },
        "id": "p53eTPJ7c2JK",
        "outputId": "f6ad993f-b451-4526-9247-a1094fe3a95a"
      },
      "execution_count": 33,
      "outputs": [
        {
          "output_type": "stream",
          "name": "stdout",
          "text": [
            "Predicted label: pig\n"
          ]
        }
      ]
    },
    {
      "cell_type": "code",
      "source": [
        "print(output)"
      ],
      "metadata": {
        "colab": {
          "base_uri": "https://localhost:8080/"
        },
        "id": "lnHdd7BPXFbE",
        "outputId": "2e9e19e2-f6f3-42d0-da76-12c83e0b0538"
      },
      "execution_count": 17,
      "outputs": [
        {
          "output_type": "stream",
          "name": "stdout",
          "text": [
            "tensor([[ 4.8466e-01, -3.2300e+00,  1.2044e+00, -7.8125e-02, -1.2534e-01,\n",
            "          1.4169e+00, -1.3278e+00,  7.7406e-01,  1.7931e-01,  1.9024e+00,\n",
            "         -2.6394e+00, -4.0846e+00, -3.7236e+00, -3.7182e+00, -3.9239e+00,\n",
            "         -2.5649e+00, -2.9976e+00, -3.1705e+00, -1.3188e+00, -3.6078e+00,\n",
            "         -1.6679e+00, -1.9100e+00, -4.3515e-01,  2.4725e+00, -2.9689e+00,\n",
            "          1.6577e+00,  1.2891e+00, -2.8923e-01,  1.4039e+00,  4.1984e+00,\n",
            "         -4.7194e-01, -1.1926e+00,  7.6402e-01,  4.6476e+00,  4.4636e+00,\n",
            "          3.1636e+00,  2.1567e+00,  7.8598e-01,  2.4532e+00,  6.5441e+00,\n",
            "         -4.4711e-01,  8.8483e-01,  2.1509e+00,  1.8787e+00, -8.1494e-01,\n",
            "          4.0567e+00, -8.0972e-01,  4.3191e+00,  8.0973e+00,  2.0966e+00,\n",
            "         -6.9470e-01,  1.0090e+01, -3.4315e+00, -1.9734e+00, -5.4534e-01,\n",
            "         -2.8100e+00, -2.2196e+00, -2.9940e+00, -3.5437e+00, -3.1287e+00,\n",
            "         -1.4109e-02,  7.4608e-01,  1.1659e+00, -3.4897e-01,  8.1497e-02,\n",
            "         -7.2556e-01,  1.8144e+00,  5.8479e-01,  9.3533e-01,  9.1226e-01,\n",
            "         -2.1463e+00, -2.6468e-02, -2.6804e+00,  3.6688e-01, -1.4010e+00,\n",
            "         -1.7072e+00, -4.6793e-02, -1.3977e+00,  2.6749e-01, -2.3858e+00,\n",
            "          2.9647e+00, -1.1337e+00, -8.7192e-01, -7.1965e-02,  6.1487e-01,\n",
            "         -7.0713e-01,  3.4433e-01,  1.3012e+00,  1.0532e+00,  1.6304e+00,\n",
            "         -2.5290e+00, -2.7541e+00, -5.3611e+00, -1.0074e+00, -3.9504e+00,\n",
            "         -4.3855e+00, -2.5073e+00, -2.5555e+00, -4.3979e+00,  1.8962e+00,\n",
            "         -1.0073e-01,  1.1113e+01,  1.1578e+00, -3.4246e-01,  3.8682e+00,\n",
            "          2.2879e+00,  7.3133e+00, -1.7549e+00, -2.2799e+00, -4.8928e-01,\n",
            "         -3.3969e+00, -2.1290e+00,  5.7150e-01, -3.3579e-01, -9.9086e-01,\n",
            "         -1.7818e+00, -8.6856e-01, -4.8540e-01, -1.7946e+00,  7.6119e-01,\n",
            "         -5.7696e-01, -2.3079e-02, -2.4334e-01, -9.3068e-01, -1.7075e+00,\n",
            "          1.0029e+00,  6.8992e-01, -1.9232e+00,  8.4197e-01, -7.6261e-01,\n",
            "         -2.6830e+00, -3.4493e+00, -3.4357e+00, -5.0900e+00, -7.0036e-01,\n",
            "         -4.9606e+00, -7.3814e-01,  2.0949e+00,  7.6343e-01, -5.8950e+00,\n",
            "         -6.1607e+00, -7.1774e+00, -3.5125e+00, -2.7617e+00, -1.7000e+00,\n",
            "          2.4630e+00,  1.9625e+00,  3.0646e+00,  4.4782e+00,  7.5590e+00,\n",
            "          5.2733e+00,  1.8379e+00, -2.7740e+00, -1.6021e+00, -2.3099e+00,\n",
            "         -1.2134e+00, -2.6777e+00, -1.7073e+00,  1.4483e+00,  3.2916e+00,\n",
            "          6.4182e-01,  3.6465e+00,  1.6754e+00,  3.3520e+00,  4.0748e+00,\n",
            "          2.5492e+00,  3.2656e+00,  3.0987e+00,  2.5179e+00,  3.8692e-02,\n",
            "          5.1751e+00,  1.1290e+00,  5.1693e+00,  2.0496e+00,  1.5413e+00,\n",
            "          5.9045e-01,  6.9155e-01,  2.1358e+00,  4.3133e+00,  7.5929e+00,\n",
            "          9.8525e+00,  3.3031e+00, -7.9302e-02,  1.5096e+00,  1.5805e+00,\n",
            "          3.3451e-01,  1.6521e+00, -2.8782e+00,  2.2268e+00,  3.7251e+00,\n",
            "          4.2050e+00,  1.9504e+00,  2.1379e+00,  1.4262e+00,  2.4023e+00,\n",
            "          6.0288e+00,  1.2227e+00,  4.2488e+00,  1.9731e+00,  2.5780e+00,\n",
            "          1.0976e-01, -2.3143e+00,  1.9638e+00,  3.3282e+00,  1.7265e-03,\n",
            "          2.2651e+00,  4.2691e+00,  1.7498e+00,  4.4956e+00,  5.1387e+00,\n",
            "          4.0720e+00,  8.0729e-01,  2.5435e+00, -8.7658e-01, -7.5503e-01,\n",
            "          5.7776e-01,  3.3930e+00,  1.1257e+00, -1.9392e-01,  3.8693e-01,\n",
            "          2.5402e+00,  2.7928e+00,  3.4339e+00, -1.3785e-01,  5.4648e-01,\n",
            "          2.2763e+00,  1.9579e-01,  6.2096e+00,  4.3168e+00,  2.4799e+00,\n",
            "         -1.4826e+00,  1.3125e+00,  2.5430e+00,  2.8238e+00,  3.3098e+00,\n",
            "          1.7291e+00,  4.4190e+00,  6.9392e-02,  2.9035e+00,  2.1370e-01,\n",
            "          2.3612e-01,  2.2158e+00,  4.8226e+00,  6.6514e+00,  2.3457e+00,\n",
            "          6.7641e+00,  7.9828e+00,  2.4201e+00,  2.7887e+00,  1.2574e+00,\n",
            "          1.2848e+00,  2.1714e+00, -1.1444e+00,  3.3575e+00,  2.5609e+00,\n",
            "          8.9273e-01,  2.6970e+00,  2.6916e+00,  5.3856e-01, -3.6251e+00,\n",
            "          2.2415e+00, -1.4543e+00, -1.8432e+00,  4.5881e-01,  4.1622e+00,\n",
            "         -3.5332e-01,  7.7070e-01,  4.1727e+00,  9.5517e+00,  2.4476e+00,\n",
            "          2.9738e+00, -5.9539e-01, -1.2208e-01,  3.8029e+00,  3.0788e+00,\n",
            "          8.2623e+00,  8.8176e+00, -8.7189e-01,  6.9205e-02,  4.6364e-01,\n",
            "         -4.9179e-02,  1.0387e+00,  9.4730e-01, -2.2287e+00, -2.8662e-01,\n",
            "          1.0187e+00,  4.6759e+00,  1.4934e-01,  4.2401e+00,  2.7773e+00,\n",
            "          4.4477e+00,  8.4381e+00,  1.9736e+00,  6.3033e-01,  6.9172e+00,\n",
            "          6.6846e+00,  5.2578e+00,  6.0429e+00,  3.5593e-01,  9.5573e-01,\n",
            "         -2.4073e+00, -3.0050e+00, -1.1874e-01, -1.3318e+00, -2.4121e+00,\n",
            "          8.8717e-01,  1.9425e+00, -1.3551e+00, -5.5361e+00, -6.1992e+00,\n",
            "         -1.8495e+00, -2.0447e+00, -1.6970e+00, -1.1612e+00, -8.4910e-01,\n",
            "         -4.2882e+00, -3.3762e+00, -5.1047e+00, -4.6243e+00, -4.8853e+00,\n",
            "         -6.3271e+00, -2.3240e+00, -3.3345e+00, -5.6428e+00, -5.6968e+00,\n",
            "         -3.8873e+00, -4.0164e+00, -1.0429e+00, -1.7351e+00,  5.7946e-02,\n",
            "         -5.2204e-01, -2.4728e-01, -3.2451e-02, -2.7560e+00, -9.3262e-02,\n",
            "          8.2102e-01, -4.8422e-01,  2.2255e+00, -9.4868e-01,  7.4934e+00,\n",
            "          4.8364e+00,  1.2070e+01,  1.0718e+01,  1.1076e+01,  8.2235e+00,\n",
            "          7.9412e+00,  8.4128e+00,  8.7158e+00,  6.3063e+00,  7.2957e+00,\n",
            "          5.2346e+00,  5.2634e+00,  1.2940e+00,  3.4025e+00,  1.0457e+01,\n",
            "          7.0216e+00, -4.1094e-01,  7.3276e-01, -1.2389e+00,  5.1250e-01,\n",
            "          2.0333e+00,  3.1078e-01,  2.1383e+00,  3.3112e+00,  1.6306e+00,\n",
            "         -1.0499e+00,  2.8948e+00,  2.9720e+00, -1.8166e+00, -1.1667e+00,\n",
            "         -7.8192e-01,  2.5709e-02,  2.2961e+00, -9.4563e-02, -3.9714e-01,\n",
            "         -4.3849e-01, -1.0038e+00, -1.3206e+00, -5.8551e-01, -7.7048e-02,\n",
            "         -2.0975e+00, -2.2504e+00, -2.3896e+00, -6.2845e-01, -8.3343e-01,\n",
            "          1.1664e+01,  9.6839e+00, -4.7756e-01,  2.9335e+00, -1.6267e+00,\n",
            "          1.7928e+00, -2.3900e-01,  4.8573e-01, -3.5281e+00,  3.1206e+00,\n",
            "         -1.2478e+00, -1.5897e+00, -1.8918e-02, -2.0073e+00, -2.0454e-02,\n",
            "         -2.1596e+00,  3.4613e-01, -1.5750e+00, -8.2690e-01, -6.8630e-01,\n",
            "          7.7085e-01, -2.4480e+00,  4.7812e-01,  2.7173e+00, -6.8999e-01,\n",
            "         -2.1156e+00, -1.7574e+00,  2.1743e+00,  7.5181e-01, -4.5809e-01,\n",
            "         -1.7136e+00,  2.7947e-01, -9.4168e-01, -2.9018e+00, -1.0031e+00,\n",
            "          4.3450e-01,  1.0929e+00,  4.0975e-01, -1.7179e+00, -3.2811e+00,\n",
            "          5.7296e-01, -1.6192e-01,  4.4887e+00,  2.8883e+00, -1.5523e+00,\n",
            "         -2.2547e+00, -2.0415e+00,  2.7394e-01,  6.7704e-01, -3.8383e+00,\n",
            "          8.7873e-01, -1.8071e-01,  7.3560e-01, -6.8741e-01,  4.9420e-01,\n",
            "         -3.7083e+00, -2.2692e+00, -4.0302e-01, -3.0066e+00,  1.3698e+00,\n",
            "          3.0336e-01, -2.3559e+00,  1.4739e-01, -1.2627e+00, -2.5266e-01,\n",
            "          4.8140e-01, -1.0058e+00, -1.5956e+00, -2.3923e+00, -1.8563e+00,\n",
            "         -2.3867e+00,  1.5504e-01, -1.3811e+00,  1.4175e+00,  6.0593e-01,\n",
            "          6.2065e-01,  2.1465e+00, -9.9463e-02,  3.5944e+00, -1.0814e+00,\n",
            "          5.4596e-01, -4.2236e-01,  2.1663e+00, -6.5321e-01,  5.5547e+00,\n",
            "          3.8132e-01,  4.4233e+00,  3.0672e-01, -1.6580e+00, -1.1314e+00,\n",
            "          3.2079e-01, -2.0834e+00, -2.7476e+00, -1.0990e+00,  1.8659e+00,\n",
            "         -1.7677e-01, -2.0006e+00,  2.9460e-01, -1.1248e+00, -1.4404e+00,\n",
            "         -7.9774e-01, -1.3508e+00, -2.5468e+00,  2.0843e+00,  1.8626e+00,\n",
            "          1.4305e+00,  3.6309e+00, -7.0689e-01, -1.8810e+00,  5.7634e-01,\n",
            "         -2.7507e+00, -3.4707e+00, -3.9481e+00, -2.5056e+00,  6.8407e-01,\n",
            "          2.6317e+00, -4.1599e-01, -3.7074e-01, -2.1460e+00, -3.5944e-01,\n",
            "          1.1389e+00,  8.4949e-02, -1.6089e+00, -4.0029e+00, -3.8740e+00,\n",
            "          6.2349e-03, -4.7806e-01, -3.0214e+00, -1.8074e+00,  1.7634e+00,\n",
            "          1.2073e+00, -1.4590e+00,  6.2477e-01, -3.8591e-01, -3.2959e-01,\n",
            "         -3.3492e+00, -2.4805e-01, -1.3987e+00,  4.6345e-01,  1.9223e+00,\n",
            "          4.6736e-01, -3.6575e+00, -2.9193e+00, -5.8516e-01, -5.1940e-01,\n",
            "          1.0757e+00, -4.6773e-02, -1.5471e+00, -3.6647e+00, -1.9111e+00,\n",
            "          5.3322e-01,  8.2861e-01,  1.6271e-02,  2.6815e-01, -3.7741e-01,\n",
            "         -2.5540e-01, -1.3855e-02, -2.2764e+00,  1.0033e+00,  3.8296e+00,\n",
            "          1.6684e+00, -1.1649e+00, -3.5642e-01, -2.5029e+00, -2.7146e+00,\n",
            "         -2.1465e+00, -2.2680e+00, -1.8691e+00, -1.1065e+00,  9.7065e-01,\n",
            "          2.4510e-02,  1.6555e+00, -1.2273e+00, -2.3269e+00, -6.0867e-01,\n",
            "         -1.4468e+00,  1.0160e+00,  1.4549e+00, -4.9617e+00, -3.7934e+00,\n",
            "         -8.8040e-01, -5.3912e-01,  9.7333e-01, -1.5795e+00,  1.4198e+00,\n",
            "         -5.6889e-01,  1.6303e+00, -2.3062e-01, -1.9252e+00, -3.2574e+00,\n",
            "         -8.2566e-02, -2.3702e+00,  2.9651e+00, -1.7482e+00, -2.2264e+00,\n",
            "         -1.3378e+00, -6.6867e-01, -1.5056e+00, -2.5333e-02, -2.1500e+00,\n",
            "         -3.0671e+00,  8.4392e-01,  1.4141e+00, -3.3129e+00, -1.1733e+00,\n",
            "         -2.0970e+00, -2.6719e+00, -4.5767e+00, -1.6815e+00, -2.2709e+00,\n",
            "          2.3055e+00,  1.5703e+00, -2.7492e+00, -1.7774e+00, -1.8602e+00,\n",
            "          2.9222e+00, -8.5196e-01,  3.4496e-01,  4.7632e+00, -1.0336e+00,\n",
            "         -3.2458e+00, -1.4633e+00,  3.2965e-01, -1.8240e+00,  1.7772e+00,\n",
            "          3.1609e-01, -2.4067e+00,  6.5534e-02, -1.7749e+00, -6.0381e-01,\n",
            "         -8.4587e-01,  4.5425e-01, -2.2900e+00,  1.0743e+00, -1.5278e+00,\n",
            "         -1.8425e+00,  9.2061e-01, -1.1098e+00, -2.0050e+00, -3.9772e+00,\n",
            "          1.6344e+00, -2.0798e+00, -8.5805e-01, -2.9331e-01, -3.4523e+00,\n",
            "         -2.3827e+00, -1.8275e+00, -6.8301e-01, -1.3253e+00,  4.0503e+00,\n",
            "         -1.8968e+00,  1.6166e+00,  2.3337e+00, -2.6431e-01, -6.6354e-02,\n",
            "         -8.6594e-01, -9.6872e-01, -1.4772e+00, -5.3106e-01, -3.0611e+00,\n",
            "         -2.6389e+00, -4.9737e-01, -9.3767e-01, -4.0247e+00,  5.1787e+00,\n",
            "         -2.1176e+00,  5.7810e-02,  1.9817e+00,  3.7577e+00,  2.4557e+00,\n",
            "         -1.5785e+00,  9.8808e-01,  1.2895e+00, -4.1079e+00, -3.7750e-01,\n",
            "          8.8791e-01, -1.3212e+00, -2.9655e+00, -1.1599e+00, -6.7446e-01,\n",
            "         -3.7537e-01,  2.3552e+00, -2.7625e+00, -3.2360e+00, -8.7815e-01,\n",
            "          2.2765e-01, -2.8542e-01, -1.3863e-01, -3.9433e+00, -1.8418e+00,\n",
            "          1.1032e+00,  5.7330e+00,  1.0334e+00, -9.4026e-01, -3.3082e+00,\n",
            "         -8.1034e-01, -2.7315e+00, -3.4876e-01, -1.2439e-01,  1.6508e-01,\n",
            "         -7.3313e-01, -1.4086e+00, -2.0735e+00, -1.8878e+00, -2.9568e+00,\n",
            "          4.9679e+00, -7.9627e-01, -3.0661e+00, -8.9199e-01,  4.2233e-01,\n",
            "          9.5289e-01, -2.2562e+00, -1.3061e+00, -1.2694e+00, -1.3624e+00,\n",
            "         -7.6845e-01, -1.4173e+00,  1.2626e+00,  1.6277e+00,  2.5134e+00,\n",
            "          6.8077e-02, -1.8071e+00,  2.8918e+00,  1.3748e+00, -3.1392e+00,\n",
            "         -5.3578e-01, -3.3598e+00, -2.1005e+00, -2.5705e+00, -2.6578e+00,\n",
            "         -3.7941e-01,  6.9290e-01,  8.7024e-01,  9.3481e-01,  4.1092e+00,\n",
            "         -4.9208e+00, -7.5111e-01, -1.3140e+00, -1.6763e+00,  9.5566e-01,\n",
            "          9.1891e-01, -1.5497e+00,  2.7136e-01,  9.3877e-01, -2.7178e+00,\n",
            "          7.3548e+00,  2.9263e-01, -2.7645e+00,  1.2499e+00, -1.0777e-01,\n",
            "         -2.3915e+00, -2.0973e+00, -2.0374e+00,  1.4378e+00,  2.0460e+00,\n",
            "          4.6811e-01, -2.2995e+00, -1.6431e+00,  3.9729e-01,  1.9127e+00,\n",
            "         -2.4721e+00,  2.2991e+00, -3.1816e-01, -2.3713e+00, -2.6737e+00,\n",
            "         -3.7326e-01,  1.2961e+00, -3.9062e+00,  7.6234e-01,  7.8610e-02,\n",
            "          6.7620e-01,  2.8312e+00, -8.9079e-01, -7.4734e-01, -3.1594e+00,\n",
            "         -1.0299e+00, -1.9433e+00, -2.8738e+00, -4.8049e-01,  8.9936e-01,\n",
            "         -7.5898e-01,  2.9506e+00, -1.9073e+00,  5.6597e-01, -7.2026e-01,\n",
            "         -3.0851e+00, -6.4357e-01, -7.0832e-01, -2.4343e+00, -3.6938e+00,\n",
            "         -1.4309e+00, -6.8942e-01,  3.3660e-02,  1.2294e+00,  4.5913e-01,\n",
            "         -2.2038e+00, -1.0234e+00,  9.3297e-02, -5.9770e-01, -2.2928e+00,\n",
            "          3.8164e-01, -1.7090e+00,  2.7956e+00, -5.2125e+00, -1.5813e+00,\n",
            "         -2.2980e+00, -7.1572e-02,  1.2406e+00, -1.7309e-01, -2.1516e+00,\n",
            "         -2.7228e+00, -1.2237e+00, -1.1576e+00, -1.0330e+00,  1.1291e-01,\n",
            "         -2.2103e+00, -4.7307e-01,  9.3997e-01,  1.1289e+00, -8.0067e-02,\n",
            "          3.0252e+00, -2.1523e+00, -1.6014e-02,  5.3008e-01, -2.6501e+00,\n",
            "         -2.9827e+00,  2.1644e+00,  9.2169e-01, -1.4438e-02, -2.4931e+00,\n",
            "          2.2205e-01, -2.4152e+00, -7.3952e-01, -1.6715e-01, -1.0658e+00,\n",
            "          5.7481e-01, -1.0411e+00,  3.1855e+00, -2.8717e+00, -1.6732e+00,\n",
            "          9.3475e-01, -9.0934e-01,  2.8936e+00,  1.1477e+00, -1.3776e+00,\n",
            "          2.2785e+00, -3.0830e-01, -4.9408e-01,  3.6907e+00, -1.1315e-01,\n",
            "          1.2273e+00, -5.1192e-01, -8.5108e-01,  5.4872e-01, -1.9655e+00,\n",
            "         -1.1483e+00,  1.1254e-01, -7.6439e-01, -1.6209e+00, -9.0540e-01,\n",
            "         -2.8307e+00, -1.0390e+00,  2.9375e+00,  7.9756e-01,  1.1125e-01,\n",
            "          3.2473e+00, -1.9834e-01,  5.1157e-01, -1.2210e+00, -1.9451e+00,\n",
            "         -3.9615e+00,  3.1058e+00, -1.5799e+00, -1.5313e+00,  3.0429e-01,\n",
            "         -1.7677e+00, -6.8641e-02, -2.6122e-01, -1.9876e-01,  1.0782e+00,\n",
            "          8.7490e-01,  3.8849e+00,  5.3304e-01, -1.4764e+00, -2.3811e+00,\n",
            "         -5.4236e-02, -2.3239e+00, -1.0061e-01, -6.5336e-01,  7.6371e-01,\n",
            "         -1.3763e+00,  1.7953e+00,  1.4410e+00, -2.2663e+00, -7.9757e-01,\n",
            "          1.3987e+00, -5.4728e-01, -6.1780e-01,  1.9226e+00,  4.4506e-01,\n",
            "         -6.3771e-01,  7.3128e-02, -2.7476e+00,  6.8312e-01, -2.9769e+00,\n",
            "         -1.1207e+00, -6.3787e-01, -1.5524e+00, -2.7340e+00, -4.8360e+00,\n",
            "          2.3557e+00, -4.7107e-01, -1.2748e+00, -4.4307e-01,  2.3406e+00,\n",
            "          1.2426e+00, -8.6551e-01,  1.3491e+00, -2.9774e+00, -1.6903e-01,\n",
            "         -7.6864e-01, -2.9111e+00, -2.6440e+00, -1.3522e+00,  4.6357e-01,\n",
            "         -7.2859e-01, -9.7967e-01,  4.2381e+00,  3.6880e+00, -1.7124e+00,\n",
            "          7.8051e-01, -7.3404e-01, -1.4608e+00, -3.4377e+00, -8.7503e-01,\n",
            "         -1.3087e+00, -6.7013e-01, -1.8075e+00, -1.2384e+00, -2.0259e+00,\n",
            "         -1.4978e+00, -1.5755e+00, -3.1245e+00, -2.3607e+00, -1.3452e+00,\n",
            "          2.3078e-02, -4.5796e-01, -7.2896e-01, -4.3662e+00, -1.3780e+00,\n",
            "         -1.9133e+00,  1.4260e+00, -3.5321e+00,  2.2919e-01, -2.9728e+00,\n",
            "          1.9146e-01, -8.1978e-01, -9.3797e-02, -2.3511e+00, -4.6782e-01,\n",
            "         -8.9203e-01, -2.0221e+00, -8.2654e-01, -2.0301e+00, -2.7673e+00,\n",
            "         -2.6701e+00, -2.7165e+00, -3.9082e-01, -3.6480e+00, -1.5115e+00,\n",
            "         -1.1790e+00,  8.4506e-01, -4.3446e-01,  1.9894e+00, -1.4806e+00,\n",
            "         -1.5858e+00,  7.0507e-01, -2.7038e+00, -3.0881e+00, -2.1689e+00,\n",
            "          2.9558e-01, -1.2771e+00, -4.1921e+00, -9.5473e-01, -1.9616e+00,\n",
            "         -9.5928e-01, -1.4569e+00,  1.1447e+00, -9.4986e-01,  1.7157e+00,\n",
            "          1.7077e+00,  8.8254e-01,  1.4244e+00,  2.8005e+00,  9.7358e-01,\n",
            "          1.5846e+00, -4.5997e-02, -3.6368e-01, -3.2461e-01, -9.1872e-01,\n",
            "         -6.1558e+00, -2.5122e+00, -1.6810e+00, -1.4003e+00, -5.3684e-01,\n",
            "         -1.0321e+00, -9.4147e-01, -1.6489e+00,  6.6995e-01, -7.0539e-01,\n",
            "          3.3096e+00,  3.2341e-01,  6.9886e-01, -1.5364e+00, -7.1209e-01]],\n",
            "       grad_fn=<AddmmBackward0>)\n"
          ]
        }
      ]
    }
  ]
}