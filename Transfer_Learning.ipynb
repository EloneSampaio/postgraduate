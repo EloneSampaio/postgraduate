{
  "nbformat": 4,
  "nbformat_minor": 0,
  "metadata": {
    "colab": {
      "provenance": [],
      "mount_file_id": "1Jcg6AKxZPuk3k_Vt7dQKPU6b4O-dm6x4",
      "authorship_tag": "ABX9TyNQfr2NLtsbI7p8RlW2KdTG",
      "include_colab_link": true
    },
    "kernelspec": {
      "name": "python3",
      "display_name": "Python 3"
    },
    "language_info": {
      "name": "python"
    }
  },
  "cells": [
    {
      "cell_type": "markdown",
      "metadata": {
        "id": "view-in-github",
        "colab_type": "text"
      },
      "source": [
        "<a href=\"https://colab.research.google.com/github/EloneSampaio/postgraduate/blob/master/Transfer_Learning.ipynb\" target=\"_parent\"><img src=\"https://colab.research.google.com/assets/colab-badge.svg\" alt=\"Open In Colab\"/></a>"
      ]
    },
    {
      "cell_type": "code",
      "execution_count": null,
      "metadata": {
        "id": "E6SQVNiwY01i"
      },
      "outputs": [],
      "source": []
    },
    {
      "cell_type": "markdown",
      "source": [
        "# Transfer Learning com TensorFlow\n",
        "\n",
        "###  Introdução ao TensorFlow e Keras\n",
        "\n",
        "TensorFlow: Um framework de código aberto para aprendizado de máquina, amplamente utilizado para redes neurais profundas.\n",
        "\n",
        "Keras: API de alto nível em TensorFlow que facilita a construção de redes neurais."
      ],
      "metadata": {
        "id": "E_pHltmNZGif"
      }
    },
    {
      "cell_type": "markdown",
      "source": [
        "Exemplo Prático: Transfer Learning com ResNet50 no TensorFlow"
      ],
      "metadata": {
        "id": "2mcJeHqcZUoE"
      }
    },
    {
      "cell_type": "code",
      "source": [
        "#  Importando as Bibliotecas:\n",
        "import tensorflow as tf\n",
        "from tensorflow.keras.applications import ResNet50\n",
        "from tensorflow.keras.preprocessing import image\n",
        "from tensorflow.keras.applications.resnet50 import preprocess_input, decode_predictions\n",
        "import numpy as np"
      ],
      "metadata": {
        "id": "Bzf15eXPZT0V"
      },
      "execution_count": null,
      "outputs": []
    },
    {
      "cell_type": "code",
      "source": [
        "#Carregando o Modelo Pré-treinado\n",
        "model =  ResNet50(weights='imagenet')\n"
      ],
      "metadata": {
        "colab": {
          "base_uri": "https://localhost:8080/"
        },
        "id": "fK4igQLZaBfM",
        "outputId": "c704dbe8-3c6a-4f0a-e08b-f6407acffdd5"
      },
      "execution_count": null,
      "outputs": [
        {
          "output_type": "stream",
          "name": "stdout",
          "text": [
            "Downloading data from https://storage.googleapis.com/tensorflow/keras-applications/resnet/resnet50_weights_tf_dim_ordering_tf_kernels.h5\n",
            "\u001b[1m102967424/102967424\u001b[0m \u001b[32m━━━━━━━━━━━━━━━━━━━━\u001b[0m\u001b[37m\u001b[0m \u001b[1m1s\u001b[0m 0us/step\n"
          ]
        }
      ]
    },
    {
      "cell_type": "code",
      "source": [
        "# Carregando e Processando a Imagem\n",
        "img_path =  '/content/drive/MyDrive/Colab Notebooks/rinocerontes.jpg'\n",
        "img = image.load_img(img_path, target_size=(224,224))\n",
        "img_array = image.img_to_array(img)\n",
        "img_array = np.expand_dims(img_array, axis= 0)\n",
        "img_array = preprocess_input(img_array)"
      ],
      "metadata": {
        "id": "Ja9xSjqEaTd4"
      },
      "execution_count": null,
      "outputs": []
    },
    {
      "cell_type": "code",
      "source": [
        "# Fazendo Previsões\n",
        "preds = model.predict(img_array)\n"
      ],
      "metadata": {
        "colab": {
          "base_uri": "https://localhost:8080/"
        },
        "id": "yxzDlJQYcXQA",
        "outputId": "339d8c99-7f78-4025-89dd-0497e9d5ee3b"
      },
      "execution_count": null,
      "outputs": [
        {
          "output_type": "stream",
          "name": "stdout",
          "text": [
            "\u001b[1m1/1\u001b[0m \u001b[32m━━━━━━━━━━━━━━━━━━━━\u001b[0m\u001b[37m\u001b[0m \u001b[1m3s\u001b[0m 3s/step\n"
          ]
        }
      ]
    },
    {
      "cell_type": "code",
      "source": [
        "# Resultado\n",
        "print('Predict: ', decode_predictions(preds, top=5)[0])"
      ],
      "metadata": {
        "colab": {
          "base_uri": "https://localhost:8080/"
        },
        "id": "JdU7oYGGcidW",
        "outputId": "a512378b-aa1b-4f68-8985-69f298ccb0d5"
      },
      "execution_count": null,
      "outputs": [
        {
          "output_type": "stream",
          "name": "stdout",
          "text": [
            "Predict:  [('n02437312', 'Arabian_camel', 0.7455686), ('n02410509', 'bison', 0.05252746), ('n02504013', 'Indian_elephant', 0.050691888), ('n02397096', 'warthog', 0.048653632), ('n01704323', 'triceratops', 0.017607134)]\n"
          ]
        }
      ]
    }
  ]
}